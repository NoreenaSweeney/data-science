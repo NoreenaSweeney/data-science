{
 "cells": [
  {
   "cell_type": "markdown",
   "metadata": {},
   "source": [
    "# Examining Racial Discrimination in the US Job Market\n",
    "\n",
    "### Background\n",
    "Racial discrimination continues to be pervasive in cultures throughout the world. Researchers examined the level of racial discrimination in the United States labor market by randomly assigning identical résumés to black-sounding or white-sounding names and observing the impact on requests for interviews from employers.\n",
    "\n",
    "### Data\n",
    "In the dataset provided, each row represents a resume. The 'race' column has two values, 'b' and 'w', indicating black-sounding and white-sounding. The column 'call' has two values, 1 and 0, indicating whether the resume received a call from employers or not.\n",
    "\n",
    "Note that the 'b' and 'w' values in race are assigned randomly to the resumes when presented to the employer."
   ]
  },
  {
   "cell_type": "code",
   "execution_count": 1,
   "metadata": {
    "collapsed": true
   },
   "outputs": [],
   "source": [
    "# Question 1) What test is appropriate for this problem? Does CLT apply?\n",
    "\n",
    "#    A hypothesis test and/or confidence intervals would be appropriate since 1) we are comparing the difference \n",
    "#    between two population groups: black or white sounding names who received callbacks and 2) the sample size is large\n",
    "#    enough - total number of data points is greater than 30 (n > 30).\n",
    "\n",
    "#    The Central Limit Theorem, can be used here since it basically measures the distribution\n",
    "#    of the sample mean or sample proportionas as long as the sample size is at least 30. In this way, one can analyze\n",
    "#    the normal distribution of the sample.\n",
    "\n",
    "# Question 2) What are the null and alternate hypotheses?\n",
    "\n",
    "#    Null Hypothesis : Ho:μ1=μ2\n",
    "#            That there is no significant difference between the mean of calls received from CVs with\n",
    "#            white-sounding names compared to the mean of those with black-sounding names.\n",
    "             \n",
    "#    Alternative Hypothesis : Ho:μ1≠μ2\n",
    "#            That there is a significant difference between the mean of calls received from CVs with\n",
    "#            white-sounding names compared to the mean of those with black-sounding names.           "
   ]
  },
  {
   "cell_type": "code",
   "execution_count": 2,
   "metadata": {
    "collapsed": false,
    "scrolled": true
   },
   "outputs": [
    {
     "name": "stdout",
     "output_type": "stream",
     "text": [
      "The sample population proportion has a +/- 0.0153 margin of error\n",
      "The proportion of CVs with black-sounding names that receive a callback is between 0.0797 and 0.0492 \n",
      "The proportion of CVs with white-sounding names that receive a callback is between 0.1118 and 0.0813 \n",
      "Z-score is equal to : 4.1084  p-value is equal to: 0.00003984\n"
     ]
    }
   ],
   "source": [
    "import pandas as pd\n",
    "import numpy as np\n",
    "from scipy import stats\n",
    "\n",
    "data = pd.io.stata.read_stata('data/us_job_market_discrimination.dta')\n",
    "\n",
    "# Question 3) Compute margin of error, confidence interval, and p-value:\n",
    "\n",
    "# Compute margin of error using this procedure:\n",
    "# 1) Find the sample size n and the sample proportion p-hat\n",
    "# 2) Multiply the sample proportion by 1 - p-hat\n",
    "# 3) Divide the result by n\n",
    "# 4) Take the square root of the calculated value which gives standard error\n",
    "# 5) Multiply the result by the appropriate z*-value for the confidence level desired.\n",
    "#    In this case, I will use a 95% confidence level which translates to a critical value of 1.96.\n",
    "\n",
    "# First, get the two groups of proportion samples.\n",
    "data_black_sounding = data[data.race=='b']\n",
    "data_white_sounding = data[data.race=='w']\n",
    "phat_b = (sum(data[data.race=='b'].call)/len(data_black_sounding.call))\n",
    "phat_w = (sum(data[data.race=='w'].call)/len(data_white_sounding.call))\n",
    "\n",
    "# Calculate the standard error\n",
    "SE = np.sqrt((phat_b*(1 - phat_b)/(len(data_black_sounding))) + (phat_w*(1 - phat_w) /(len(data_white_sounding))))\n",
    "\n",
    "# Calculate the margin of error using a 95% confidence level.\n",
    "crit_val = 1.96\n",
    "MoE = abs(crit_val * SE)\n",
    "print(\"The sample population proportion has a +/- %0.4F margin of error\" % MoE)\n",
    "\n",
    "# Calculate the confidence interval. In this instance, I will have two results:\n",
    "# each sample proportion +/- the margin of error.              \n",
    "phat_b_CI_plus = phat_b + MoE\n",
    "phat_b_CI_minus = phat_b - MoE\n",
    "phat_w_CI_plus = phat_w + MoE\n",
    "phat_w_CI_minus = phat_w - MoE\n",
    "\n",
    "print(\"The proportion of CVs with black-sounding names that receive a callback is between %0.4F and %0.4F \" % (phat_b_CI_plus, phat_b_CI_minus))\n",
    "print(\"The proportion of CVs with white-sounding names that receive a callback is between %0.4F and %0.4F \" % (phat_w_CI_plus, phat_w_CI_minus))\n",
    "\n",
    "# Calculate an appropriate test statistic and the p-value.\n",
    "# Since we are dealing with proportions, use the following steps:\n",
    "#    1) Use the z-test statistic formula\n",
    "#    2) Determine the p-value associated with the test statistic\n",
    "#    3) Decide between null and alternative hypothesis\n",
    "              \n",
    "# Null Hypothesis expects no difference between the two proportions: phat_b - phat_w\n",
    "null = 0\n",
    "\n",
    "# Need a total proportion sample\n",
    "p_total = (sum(data.call)/(len(data.call)))\n",
    "\n",
    "# First calculate Standard Error of total proportion (again assuming that H0 is true)\n",
    "p_total_SE = np.sqrt((p_total*(1 - p_total)/(len(data_black_sounding))) + (p_total*(1 - p_total) /(len(data_white_sounding))))\n",
    "\n",
    "# Now calculate the z-score and get two-sided p-values using stat function\n",
    "p_sample_proportion = (phat_w - phat_b)\n",
    "z_score = ((p_sample_proportion - null)/p_total_SE) \n",
    "p_values = stats.norm.sf(abs(z_score))*2\n",
    "print(\"Z-score is equal to : %5.4F  p-value is equal to: %5.8F\" % (z_score, p_values))\n",
    "                                                        "
   ]
  },
  {
   "cell_type": "code",
   "execution_count": 3,
   "metadata": {
    "collapsed": true
   },
   "outputs": [],
   "source": [
    "# Question 4) Write a story describing the statistical significance in the context of the original problem\n",
    "\n",
    "#    The p-value of 0.0000398 < 0.015 allows us to reject the null hypothesis and conclude that \n",
    "#    there is a significant difference between the two proportions of black-sounding and white-sounding names\n",
    "#    with callbacks. \n",
    "\n",
    "# Question 5) Does your analysis mean that race/name is the most important factor in callback success? \n",
    "#             Why or why not? If not, how would you amend your analysis?\n",
    "\n",
    "#    This initial analysis do indicate that there is some statistically significant difference between the\n",
    "#    two proportion samples as divided by race.  However, I believe that further analysis need to be done\n",
    "#    to know if race is the most important factor.\n",
    "    "
   ]
  }
 ],
 "metadata": {
  "anaconda-cloud": {},
  "kernelspec": {
   "display_name": "Python [conda root]",
   "language": "python",
   "name": "conda-root-py"
  },
  "language_info": {
   "codemirror_mode": {
    "name": "ipython",
    "version": 3
   },
   "file_extension": ".py",
   "mimetype": "text/x-python",
   "name": "python",
   "nbconvert_exporter": "python",
   "pygments_lexer": "ipython3",
   "version": "3.5.2"
  }
 },
 "nbformat": 4,
 "nbformat_minor": 0
}
